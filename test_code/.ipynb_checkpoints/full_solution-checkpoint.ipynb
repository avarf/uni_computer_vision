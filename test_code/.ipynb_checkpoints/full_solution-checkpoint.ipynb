{
 "cells": [
  {
   "cell_type": "code",
   "execution_count": 1,
   "metadata": {
    "collapsed": true
   },
   "outputs": [],
   "source": [
    "import cv2\n",
    "import numpy\n",
    "import matplotlib.pyplot as plt"
   ]
  },
  {
   "cell_type": "code",
   "execution_count": 8,
   "metadata": {},
   "outputs": [
    {
     "name": "stdout",
     "output_type": "stream",
     "text": [
      "(480, 640, 3)\n"
     ]
    }
   ],
   "source": [
    "cap = cv2.VideoCapture(0)\n",
    "\n",
    "while True:\n",
    "    ret, frame = cap.read()\n",
    "    gaus_filt = cv2.GaussianBlur(frame,(5,5),3)\n",
    "    sobel_filt = cv2.Sobel(frame,cv2.CV_64F, 1,0, ksize=5)\n",
    "    median_filt = cv2.medianBlur(frame,5)\n",
    "    # Set threshold and maxValue\n",
    "    thresh = 127\n",
    "    maxValue = 255\n",
    "    binTher_filt1,binTher_filt2 = cv2.threshold(frame, thresh, maxValue, cv2.THRESH_BINARY)\n",
    "    \n",
    "#     subimg = gaus_filt[50:430, 50:590,:]    \n",
    "#     subimg = sobel_filt[50:430, 50:590,:]    \n",
    "#     subimg = median_filt[50:430, 50:590,:]\n",
    "    subimg = binTher_filt2[50:430, 50:590,:]\n",
    "    \n",
    "    frame[50:430, 50:590,:] = subimg\n",
    "    if cv2.waitKey(33) == ord('q'):\n",
    "        break\n",
    "    cv2.imshow('frame',frame)\n",
    "    cv2.imshow('ggg',subimg)\n",
    "\n",
    "print(frame.shape)\n",
    "cap.release()\n",
    "cv2.destroyAllWindows()"
   ]
  },
  {
   "cell_type": "code",
   "execution_count": 3,
   "metadata": {},
   "outputs": [
    {
     "name": "stdout",
     "output_type": "stream",
     "text": [
      "(480, 640, 3)\n"
     ]
    }
   ],
   "source": [
    "cap = cv2.VideoCapture(0)\n",
    "\n",
    "border_size= 30\n",
    "while True:\n",
    "    ret, frame = cap.read()\n",
    "    gaus_filt = cv2.GaussianBlur(frame,(5,5),3)\n",
    "    sobel_filt = cv2.Sobel(frame,cv2.CV_64F, 1,0, ksize=5)\n",
    "    median_filt = cv2.medianBlur(frame,5)\n",
    "    # Set threshold and maxValue\n",
    "    thresh = 127\n",
    "    maxValue = 255\n",
    "    binTher_filt1,binTher_filt2 = cv2.threshold(frame, thresh, maxValue, cv2.THRESH_BINARY)\n",
    "    subimg = sobel_filt[border_size:(480-border_size), border_size:(640-border_size),:]\n",
    "    frame[border_size:(480-border_size), border_size:(640-border_size),:] = subimg\n",
    "    \n",
    "    if cv2.waitKey(33) == ord('q'):\n",
    "        break\n",
    "    cv2.imshow('frame',frame)\n",
    "    cv2.imshow('ggg',subimg)\n",
    "\n",
    "print(frame.shape)\n",
    "cap.release()\n",
    "cv2.destroyAllWindows()"
   ]
  },
  {
   "cell_type": "code",
   "execution_count": 3,
   "metadata": {},
   "outputs": [
    {
     "name": "stdout",
     "output_type": "stream",
     "text": [
      "43\n"
     ]
    }
   ],
   "source": [
    "cap = cv2.VideoCapture(0)\n",
    "\n",
    "while True:\n",
    "    ret, frame = cap.read()\n",
    "    gray = cv2.cvtColor(frame, cv2.COLOR_BGR2GRAY)\n",
    "    frame = gray\n",
    "    sobel_filt = cv2.GaussianBlur(frame,(5,5),3)\n",
    "    subimg = sobel_filt[50:430, 50:590]\n",
    "    frame[50:430, 50:590] = subimg\n",
    "    cv2.imshow('frame',frame)\n",
    "    k = cv2.waitKey(33)\n",
    "    if k==ord('q'):\n",
    "        break\n",
    "print (k)\n",
    "cap.release()\n",
    "cv2.destroyAllWindows()"
   ]
  },
  {
   "cell_type": "code",
   "execution_count": 5,
   "metadata": {
    "collapsed": true
   },
   "outputs": [],
   "source": [
    "# Showing new windows constantly\n",
    "\n",
    "filt_value = 5\n",
    "cap = cv2.VideoCapture(0)\n",
    "k= 0\n",
    "old_k = 0\n",
    "while True:\n",
    "    ret, frame = cap.read()\n",
    "    gray = cv2.cvtColor(frame, cv2.COLOR_BGR2GRAY)\n",
    "    frame = gray\n",
    "    \n",
    "#     if new_k == +:\n",
    "#         def_postv += 1\n",
    "#     elif new_k == -:\n",
    "#         def_neg -= 1\n",
    "      \n",
    "    if k == ord('q'):\n",
    "        break\n",
    "    elif k == ord('g'): # Gaussian\n",
    "        gaus_filt = cv2.GaussianBlur(frame,(5,5),3)\n",
    "        subimg = gaus_filt[50:430, 50:590]\n",
    "        frame[50:430, 50:590] = subimg\n",
    "        \n",
    "        new_k = cv2.waitKey(33)\n",
    "        if new_k == 43:\n",
    "            \n",
    "        elif k == 45:\n",
    "            \n",
    "        if new_k != -1 and new_k != k:\n",
    "            k = new_k\n",
    "    elif k == ord(' '):\n",
    "        \n",
    "        \n",
    "        cv2.imshow('frame',frame)\n",
    "        new_k = cv2.waitKey(33)\n",
    "        if new_k != -1 and new_k != k:\n",
    "            k = new_k\n",
    "    elif k == ord('h'): # Horizontal Sobel\n",
    "        sobel_filt = cv2.Sobel(frame,cv2.CV_64F, 1,0, ksize=3)\n",
    "        subimg = sobel_filt[50:430, 50:590]\n",
    "        frame[50:430, 50:590] = subimg\n",
    "        cv2.imshow('frame',frame)\n",
    "        \n",
    "        new_k = cv2.waitKey(33)\n",
    "        if new_k != -1 and new_k != k:\n",
    "            k = new_k\n",
    "    elif k == ord('v'): # Vertical Sobel\n",
    "        \n",
    "        new_k = cv2.waitKey(33)\n",
    "        if new_k != -1 and new_k != k:\n",
    "            k = new_k\n",
    "    elif k == ord('t'): # Threshold\n",
    "        \n",
    "        new_k = cv2.waitKey(33)\n",
    "        if new_k != -1 and new_k != k:\n",
    "            k = new_k\n",
    "    else:\n",
    "        cv2.imshow('frame',frame)\n",
    "        k = cv2.waitKey(33)\n",
    "        \n",
    "    frame[50:430, 50:590,:] = subimg\n",
    "    cv2.imshow('frame',frame)\n",
    "\n",
    "cap.release()\n",
    "cv2.destroyAllWindows()"
   ]
  }
 ],
 "metadata": {
  "kernelspec": {
   "display_name": "Python 3",
   "language": "python",
   "name": "python3"
  },
  "language_info": {
   "codemirror_mode": {
    "name": "ipython",
    "version": 3
   },
   "file_extension": ".py",
   "mimetype": "text/x-python",
   "name": "python",
   "nbconvert_exporter": "python",
   "pygments_lexer": "ipython3",
   "version": "3.5.2"
  }
 },
 "nbformat": 4,
 "nbformat_minor": 2
}
