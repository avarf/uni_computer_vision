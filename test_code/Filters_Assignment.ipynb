{
 "cells": [
  {
   "cell_type": "markdown",
   "metadata": {},
   "source": [
    "# Different Filters Assignment"
   ]
  },
  {
   "cell_type": "code",
   "execution_count": 1,
   "metadata": {
    "collapsed": true
   },
   "outputs": [],
   "source": [
    "import cv2\n",
    "import numpy\n",
    "import matplotlib.pyplot as plt"
   ]
  },
  {
   "cell_type": "code",
   "execution_count": 2,
   "metadata": {
    "collapsed": true
   },
   "outputs": [],
   "source": [
    "filt_value = 5\n",
    "cap = cv2.VideoCapture(0)\n",
    "k= 0\n",
    "while True:\n",
    "    ret, frame = cap.read()\n",
    "    gray = cv2.cvtColor(frame, cv2.COLOR_BGR2GRAY)\n",
    "    frame = gray\n",
    "    \n",
    "    if k == ord('q'):\n",
    "        break\n",
    "    elif k == ord('g'): # Gaussian\n",
    "        gaus_filt = cv2.GaussianBlur(frame,(filt_value,filt_value),3)\n",
    "        subimg = gaus_filt[50:430, 50:590]\n",
    "        frame[50:430, 50:590] = subimg\n",
    "        cv2.imshow('frame',frame)\n",
    "        \n",
    "        new_k = cv2.waitKey(33)\n",
    "        if new_k == 43:\n",
    "            filt_value += 2\n",
    "            new_k = 0\n",
    "        elif new_k == 45:\n",
    "            filt_value -= 2\n",
    "            new_k = 0\n",
    "        elif new_k != -1 and new_k != k:\n",
    "            k = new_k\n",
    "            filt_value = 5\n",
    "    elif k == ord(' '):\n",
    "        cv2.imshow('frame',frame)\n",
    "        new_k = cv2.waitKey(33)\n",
    "        if new_k != -1 and new_k != k:\n",
    "            k = new_k\n",
    "            filt_value = 5\n",
    "    elif k == ord('h'): # Horizontal Sobel\n",
    "        sobel_filt = cv2.Sobel(frame,cv2.CV_64F, 0, 1, ksize=filt_value)\n",
    "        subimg = sobel_filt[50:430, 50:590]\n",
    "        frame[50:430, 50:590] = subimg\n",
    "        cv2.imshow('frame',frame)\n",
    "        \n",
    "        new_k = cv2.waitKey(33)\n",
    "        if new_k == 43:\n",
    "            filt_value += 2\n",
    "            new_k = 0\n",
    "        elif new_k == 45:\n",
    "            filt_value -= 2\n",
    "            new_k = 0\n",
    "        elif new_k != -1 and new_k != k:\n",
    "            k = new_k\n",
    "            filt_value = 5\n",
    "    elif k == ord('v'): # Vertical Sobel\n",
    "        sobel_filt = cv2.Sobel(frame,cv2.CV_64F, 1, 0, ksize=filt_value)\n",
    "        subimg = sobel_filt[50:430, 50:590]\n",
    "        frame[50:430, 50:590] = subimg\n",
    "        cv2.imshow('frame',frame)\n",
    "        \n",
    "        new_k = cv2.waitKey(33)\n",
    "        if new_k == 43:\n",
    "            filt_value += 2\n",
    "            new_k = 0\n",
    "        elif new_k == 45:\n",
    "            filt_value -= 2\n",
    "            new_k = 0\n",
    "        elif new_k != -1 and new_k != k:\n",
    "            k = new_k\n",
    "            filt_value = 5\n",
    "    elif k == ord('t'): # Threshold\n",
    "        maxValue = 255\n",
    "        binTher_filt1,binTher_filt2 = cv2.threshold(frame, filt_value, maxValue, cv2.THRESH_BINARY)\n",
    "        subimg = binTher_filt2[50:430, 50:590]\n",
    "        frame[50:430, 50:590] = subimg\n",
    "        cv2.imshow('frame',frame)\n",
    "        \n",
    "        new_k = cv2.waitKey(33)\n",
    "        if new_k == 43:\n",
    "            filt_value += 2\n",
    "            new_k = -1\n",
    "        elif new_k == 45:\n",
    "            filt_value -= 2\n",
    "            new_k = -1\n",
    "        elif new_k != -1 and new_k != k:\n",
    "            k = new_k\n",
    "            filt_value = 5\n",
    "    else:\n",
    "        cv2.imshow('frame',frame)\n",
    "        k = cv2.waitKey(33)\n",
    "cap.release()\n",
    "cv2.destroyAllWindows()"
   ]
  }
 ],
 "metadata": {
  "kernelspec": {
   "display_name": "Python 3",
   "language": "python",
   "name": "python3"
  },
  "language_info": {
   "codemirror_mode": {
    "name": "ipython",
    "version": 3
   },
   "file_extension": ".py",
   "mimetype": "text/x-python",
   "name": "python",
   "nbconvert_exporter": "python",
   "pygments_lexer": "ipython3",
   "version": "3.5.2"
  }
 },
 "nbformat": 4,
 "nbformat_minor": 2
}
