{
 "cells": [
  {
   "cell_type": "code",
   "execution_count": 1,
   "metadata": {
    "collapsed": true
   },
   "outputs": [],
   "source": [
    "import cv2\n",
    "import numpy as np\n",
    "import matplotlib.pyplot as plt"
   ]
  },
  {
   "cell_type": "code",
   "execution_count": 2,
   "metadata": {
    "collapsed": true
   },
   "outputs": [],
   "source": [
    "%matplotlib inline"
   ]
  },
  {
   "cell_type": "markdown",
   "metadata": {},
   "source": [
    "# Save my own image"
   ]
  },
  {
   "cell_type": "code",
   "execution_count": 8,
   "metadata": {
    "collapsed": true
   },
   "outputs": [],
   "source": [
    "cap = cv2.VideoCapture(0)\n",
    "\n",
    "while True:\n",
    "    ret, frame = cap.read()\n",
    "    \n",
    "    cv2.imshow('frame',frame)\n",
    "    \n",
    "    key = cv2.waitKey(33)\n",
    "    if key == ord('q'):\n",
    "        cv2.imwrite(\"myphoto.jpg\",frame)\n",
    "        break\n",
    "\n",
    "cap.release()\n",
    "cv2.destroyAllWindows()"
   ]
  },
  {
   "cell_type": "markdown",
   "metadata": {},
   "source": [
    "# Loading Image"
   ]
  },
  {
   "cell_type": "markdown",
   "metadata": {},
   "source": [
    "https://www.google.com/imgres?imgurl=http%3A%2F%2Fwww.rsa.unc.edu%2Fpsw%2Fimages%2Fwalking_figures.png&imgrefurl=http%3A%2F%2Fwww.rsa.unc.edu%2Fpsw%2F&docid=1Zqi7cTp3O9ucM&tbnid=2bzUsw4sk3CRUM%3A&vet=10ahUKEwi8mrmr_ZrXAhWGIsAKHSarAEc4ZBAzCBAoDDAM..i&w=417&h=336&safe=images&bih=671&biw=1329&as_q=pedestrian&ved=0ahUKEwi8mrmr_ZrXAhWGIsAKHSarAEc4ZBAzCBAoDDAM&iact=mrc&uact=8"
   ]
  },
  {
   "cell_type": "code",
   "execution_count": 2,
   "metadata": {
    "collapsed": true
   },
   "outputs": [],
   "source": [
    "image = cv2.imread('original_Resized.jpeg')\n",
    "image = np.float32(image)/255.0\n",
    "\n",
    "cv2.imshow('image',image)\n",
    "cv2.waitKey(0)\n",
    "cv2.destroyAllWindows()"
   ]
  },
  {
   "cell_type": "markdown",
   "metadata": {},
   "source": [
    "# Preprocessing - Cropping and resizing the image"
   ]
  },
  {
   "cell_type": "markdown",
   "metadata": {},
   "source": [
    "# Sobel Filter"
   ]
  },
  {
   "cell_type": "code",
   "execution_count": 3,
   "metadata": {
    "collapsed": true
   },
   "outputs": [],
   "source": [
    "sobel_imgx = cv2.Sobel(image, cv2.CV_32F, 0, 1, ksize = 1) # H\n",
    "sobel_imgy = cv2.Sobel(image, cv2.CV_32F, 1, 0, ksize = 1) # V\n",
    "\n",
    "cv2.imshow('sobel_H', sobel_imgx)\n",
    "cv2.imshow('sobel_V', sobel_imgy)\n",
    "\n",
    "cv2.waitKey(0)\n",
    "cv2.destroyAllWindows()"
   ]
  },
  {
   "cell_type": "markdown",
   "metadata": {},
   "source": [
    "# HOG - Calculating the mag and angle"
   ]
  },
  {
   "cell_type": "code",
   "execution_count": 4,
   "metadata": {
    "collapsed": true
   },
   "outputs": [],
   "source": [
    "mag, angle = cv2.cartToPolar(sobel_imgx, sobel_imgy, angleInDegrees=True)"
   ]
  },
  {
   "cell_type": "code",
   "execution_count": 5,
   "metadata": {
    "collapsed": true
   },
   "outputs": [],
   "source": [
    "cv2.imshow('mag',mag)\n",
    "cv2.imshow('angle',angle)\n",
    "\n",
    "cv2.waitKey(0)\n",
    "cv2.destroyAllWindows()"
   ]
  },
  {
   "cell_type": "markdown",
   "metadata": {},
   "source": [
    "# HOG - Calculate Histogram of Gradients in 8×8 cells"
   ]
  },
  {
   "cell_type": "code",
   "execution_count": null,
   "metadata": {
    "collapsed": true
   },
   "outputs": [],
   "source": []
  },
  {
   "cell_type": "markdown",
   "metadata": {},
   "source": [
    "# HOG - 16×16 Block Normalization"
   ]
  },
  {
   "cell_type": "code",
   "execution_count": null,
   "metadata": {
    "collapsed": true
   },
   "outputs": [],
   "source": []
  },
  {
   "cell_type": "markdown",
   "metadata": {},
   "source": [
    "# Calculate the HOG feature vector and send it to classifier"
   ]
  },
  {
   "cell_type": "code",
   "execution_count": null,
   "metadata": {
    "collapsed": true
   },
   "outputs": [],
   "source": []
  },
  {
   "cell_type": "markdown",
   "metadata": {},
   "source": [
    "# Other implementation"
   ]
  },
  {
   "cell_type": "markdown",
   "metadata": {},
   "source": [
    "# 1)"
   ]
  },
  {
   "cell_type": "code",
   "execution_count": 16,
   "metadata": {
    "collapsed": true
   },
   "outputs": [],
   "source": [
    "# hog = cv2.HOGDescriptor()\n",
    "winSize = (64,64)\n",
    "blockSize = (16,16)\n",
    "blockStride = (8,8)\n",
    "cellSize = (8,8)\n",
    "nbins = 9\n",
    "derivAperture = 1\n",
    "winSigma = 4.\n",
    "histogramNormType = 0\n",
    "L2HysThreshold = 2.0000000000000001e-01\n",
    "gammaCorrection = 0\n",
    "nlevels = 64\n",
    "\n",
    "hog = cv2.HOGDescriptor(winSize,blockSize,blockStride,cellSize,nbins,derivAperture,winSigma,\n",
    "                        histogramNormType,L2HysThreshold,gammaCorrection,nlevels)\n",
    "winStride = (8,8)\n",
    "padding = (8,8)\n",
    "locations = ((10,20),)\n",
    "hist = hog.compute(image,winStride,padding,locations)"
   ]
  },
  {
   "cell_type": "markdown",
   "metadata": {},
   "source": [
    "# 2)\n",
    "\n",
    "https://stackoverflow.com/questions/6090399/get-hog-image-features-from-opencv-python"
   ]
  },
  {
   "cell_type": "code",
   "execution_count": 2,
   "metadata": {
    "collapsed": true
   },
   "outputs": [],
   "source": [
    "from numpy.linalg import norm"
   ]
  },
  {
   "cell_type": "code",
   "execution_count": 22,
   "metadata": {
    "collapsed": true
   },
   "outputs": [],
   "source": [
    "crop_image = image[:320, :488]"
   ]
  },
  {
   "cell_type": "code",
   "execution_count": 2,
   "metadata": {
    "collapsed": true
   },
   "outputs": [],
   "source": [
    "def myhog(img):\n",
    "    gx = cv2.Sobel(img, cv2.CV_32F, 1, 0)\n",
    "    gy = cv2.Sobel(img, cv2.CV_32F, 0, 1)\n",
    "    mag, ang = cv2.cartToPolar(gx, gy)\n",
    "    bin_n = 16 # Number of bins\n",
    "    bin = np.int32(bin_n*ang/(2*np.pi))\n",
    "\n",
    "    bin_cells = []\n",
    "    mag_cells = []\n",
    "\n",
    "    cellx = celly = 8\n",
    "\n",
    "    for i in range(0,int(img.shape[0]/celly)):\n",
    "        for j in range(0,int(img.shape[1]/cellx)):\n",
    "            bin_cells.append(bin[i*celly : i*celly+celly, j*cellx : j*cellx+cellx])\n",
    "            mag_cells.append(mag[i*celly : i*celly+celly, j*cellx : j*cellx+cellx])   \n",
    "\n",
    "    hists = [np.bincount(b.ravel(), m.ravel(), bin_n) for b, m in zip(bin_cells, mag_cells)]\n",
    "    hist = np.hstack(hists)\n",
    "\n",
    "    # transform to Hellinger kernel\n",
    "    eps = 1e-7\n",
    "    hist /= hist.sum() + eps\n",
    "    hist = np.sqrt(hist)\n",
    "    hist /= norm(hist) + eps\n",
    "\n",
    "    return hist, bin_cells, mag_cells"
   ]
  },
  {
   "cell_type": "code",
   "execution_count": 23,
   "metadata": {
    "collapsed": true
   },
   "outputs": [],
   "source": [
    "# imp2_hog = hog(image)\n",
    "imp2_feature_vector, other_data1, other_data2 = hog(crop_image)"
   ]
  },
  {
   "cell_type": "code",
   "execution_count": 25,
   "metadata": {},
   "outputs": [
    {
     "name": "stdout",
     "output_type": "stream",
     "text": [
      "(39064,)\n",
      "(2440, 8, 8, 3)\n"
     ]
    }
   ],
   "source": [
    "other_data1 = np.asarray(other_data1)\n",
    "other_data2 = np.asarray(other_data2)\n",
    "imp2_feature_vector = np.asarray(imp2_feature_vector)\n",
    "\n",
    "print(imp2_feature_vector.shape)\n",
    "print(other_data1.shape)\n",
    "# cv2.imshow('imp2_hog', other_data1)\n",
    "# cv2.imshow('imp22_hog', other_data2)\n",
    "\n",
    "# cv2.waitKey(0)\n",
    "# cv2.destroyAllWindows()"
   ]
  },
  {
   "cell_type": "code",
   "execution_count": 6,
   "metadata": {
    "collapsed": true
   },
   "outputs": [],
   "source": [
    "image2 = cv2.imread('GroupAdults.png')\n",
    "image2 = np.float32(image2)/255.0\n",
    "\n",
    "sobel_imgx = cv2.Sobel(image2, cv2.CV_32F, 0, 1, ksize = 1) # H\n",
    "sobel_imgy = cv2.Sobel(image2, cv2.CV_32F, 1, 0, ksize = 1) # V\n",
    "\n",
    "mag, angle = cv2.cartToPolar(sobel_imgx, sobel_imgy, angleInDegrees=True)\n",
    "\n",
    "outImage = cv2.add(angle, mag)\n",
    "cv2.imshow('out', outImage)\n",
    "\n",
    "# cv2.imshow('mag', mag)\n",
    "# cv2.imshow('angle', angle)\n",
    "\n",
    "cv2.waitKey(0)\n",
    "cv2.destroyAllWindows()\n"
   ]
  },
  {
   "cell_type": "code",
   "execution_count": 9,
   "metadata": {},
   "outputs": [
    {
     "name": "stdout",
     "output_type": "stream",
     "text": [
      "(336, 417, 3)\n"
     ]
    }
   ],
   "source": [
    "print(image2.shape)\n",
    "crop_image = image2[:320, :416]\n",
    "\n",
    "cv2.imshow('angle', crop_image)\n",
    "\n",
    "cv2.waitKey(0)\n",
    "cv2.destroyAllWindows()"
   ]
  },
  {
   "cell_type": "markdown",
   "metadata": {},
   "source": [
    "# Imp 3: Using scikit learn"
   ]
  },
  {
   "cell_type": "code",
   "execution_count": 3,
   "metadata": {
    "collapsed": true
   },
   "outputs": [],
   "source": [
    "import matplotlib.pyplot as plt\n",
    "\n",
    "from skimage.feature import hog\n",
    "from skimage import data, color, exposure"
   ]
  },
  {
   "cell_type": "code",
   "execution_count": 5,
   "metadata": {
    "collapsed": true
   },
   "outputs": [],
   "source": [
    "hog?"
   ]
  },
  {
   "cell_type": "code",
   "execution_count": null,
   "metadata": {},
   "outputs": [
    {
     "name": "stderr",
     "output_type": "stream",
     "text": [
      "/home/ali/.local/lib/python3.5/site-packages/skimage/feature/_hog.py:119: skimage_deprecation: Default value of `block_norm`==`L1` is deprecated and will be changed to `L2-Hys` in v0.15\n",
      "  'be changed to `L2-Hys` in v0.15', skimage_deprecation)\n"
     ]
    }
   ],
   "source": [
    "# image2 = cv2.imread('walking_figures.png')\n",
    "image2 = cv2.imread('myphoto.jpg')\n",
    "\n",
    "\n",
    "image = color.rgb2gray(image2)\n",
    "# image = color.rgb2gray(data.astronaut())\n",
    "\n",
    "fd, hog_image = hog(image, orientations=8, pixels_per_cell=(16, 16),\n",
    "                    cells_per_block=(1, 1), visualise=True)\n",
    "\n",
    "# fig, (ax1, ax2) = plt.subplots(1, 2, figsize=(8, 4), sharex=True, sharey=True)\n",
    "\n",
    "# ax1.axis('off')\n",
    "# ax1.imshow(image, cmap=plt.cm.gray)\n",
    "# ax1.set_title('Input image')\n",
    "# ax1.set_adjustable('box-forced')\n",
    "\n",
    "# Rescale histogram for better display\n",
    "hog_image_rescaled = exposure.rescale_intensity(hog_image, in_range=(0, 0.02))\n",
    "\n",
    "# ax2.axis('off')\n",
    "# ax2.imshow(hog_image_rescaled, cmap=plt.cm.gray)\n",
    "# ax2.set_title('Histogram of Oriented Gradients')\n",
    "# ax1.set_adjustable('box-forced')\n",
    "# plt.show()\n",
    "\n",
    "cv2.imshow('angle', hog_image_rescaled)\n",
    "\n",
    "cv2.waitKey(0)\n",
    "cv2.destroyAllWindows()"
   ]
  }
 ],
 "metadata": {
  "kernelspec": {
   "display_name": "Python 3",
   "language": "python",
   "name": "python3"
  },
  "language_info": {
   "codemirror_mode": {
    "name": "ipython",
    "version": 3
   },
   "file_extension": ".py",
   "mimetype": "text/x-python",
   "name": "python",
   "nbconvert_exporter": "python",
   "pygments_lexer": "ipython3",
   "version": "3.5.2"
  }
 },
 "nbformat": 4,
 "nbformat_minor": 2
}
